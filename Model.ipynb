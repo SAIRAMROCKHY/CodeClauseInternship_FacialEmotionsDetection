{
  "cells": [
    {
      "cell_type": "code",
      "execution_count": null,
      "metadata": {
        "id": "bBm_N3bhzxy1"
      },
      "outputs": [],
      "source": [
        "import numpy as np\n",
        "import pandas as pd\n",
        "import math\n",
        "import sklearn\n",
        "import tensorflow as tf\n",
        "from sklearn.preprocessing import LabelEncoder\n",
        "from keras.utils import np_utils\n",
        "from tensorflow.keras.layers import Flatten, Dense, Conv2D, MaxPooling2D\n",
        "from tensorflow.keras.layers import Dropout, BatchNormalization, LeakyReLU, Activation"
      ]
    },
    {
      "cell_type": "code",
      "execution_count": null,
      "metadata": {
        "id": "JJHqmlt0zxy2"
      },
      "outputs": [],
      "source": [
        "dataset = pd.read_csv(\"/content/fer2013.csv\")"
      ]
    },
    {
      "cell_type": "code",
      "execution_count": null,
      "metadata": {
        "id": "O1rTpdZAzxy3"
      },
      "outputs": [],
      "source": [
        "dataset = dataset[dataset['Usage'] == \"Training\"]\n",
        "dataset = dataset[['pixels', 'emotion']]"
      ]
    },
    {
      "cell_type": "code",
      "execution_count": null,
      "metadata": {
        "id": "HUfaIO5Tzxy4"
      },
      "outputs": [],
      "source": [
        "image_dataset = dataset.pixels.apply(lambda x: np.array(x.split(' ')).reshape(48, 48, 1).astype('float32'))"
      ]
    },
    {
      "cell_type": "code",
      "execution_count": null,
      "metadata": {
        "id": "nnnsGISfzxy4"
      },
      "outputs": [],
      "source": [
        "image_dataset = np.stack(image_dataset, axis=0)"
      ]
    },
    {
      "cell_type": "code",
      "execution_count": null,
      "metadata": {
        "colab": {
          "base_uri": "https://localhost:8080/"
        },
        "id": "GWqQermOzxy4",
        "outputId": "3da3b74e-731b-4619-cd1c-24b03f94692b"
      },
      "outputs": [
        {
          "data": {
            "text/plain": [
              "(28709, 7)"
            ]
          },
          "execution_count": 12,
          "metadata": {},
          "output_type": "execute_result"
        }
      ],
      "source": [
        "le = LabelEncoder()\n",
        "img_labels = le.fit_transform(dataset.emotion)\n",
        "img_labels = np_utils.to_categorical(img_labels)\n",
        "img_labels.shape"
      ]
    },
    {
      "cell_type": "code",
      "execution_count": null,
      "metadata": {
        "colab": {
          "base_uri": "https://localhost:8080/"
        },
        "id": "f5PLIV4_zxy5",
        "outputId": "b8079a43-32ec-42ce-860c-794af264973e"
      },
      "outputs": [
        {
          "name": "stdout",
          "output_type": "stream",
          "text": [
            "{0: 0, 1: 1, 2: 2, 3: 3, 4: 4, 5: 5, 6: 6}\n"
          ]
        }
      ],
      "source": [
        "le_name_mapping = dict(zip(le.classes_, le.transform(le.classes_)))\n",
        "print(le_name_mapping)"
      ]
    },
    {
      "cell_type": "code",
      "execution_count": null,
      "metadata": {
        "colab": {
          "base_uri": "https://localhost:8080/"
        },
        "id": "V23haTKxzxy5",
        "outputId": "749e03fc-cd63-40b8-afc3-be82d95b79d5"
      },
      "outputs": [
        {
          "data": {
            "text/plain": [
              "((25838, 48, 48, 1), (2871, 48, 48, 1), (25838, 7), (2871, 7))"
            ]
          },
          "execution_count": 14,
          "metadata": {},
          "output_type": "execute_result"
        }
      ],
      "source": [
        "from sklearn.model_selection import train_test_split\n",
        "X_train, X_valid, y_train, y_valid = train_test_split(image_dataset, img_labels, shuffle=True, stratify=img_labels, test_size=0.1, random_state=42)\n",
        "X_train.shape, X_valid.shape, y_train.shape, y_valid.shape"
      ]
    },
    {
      "cell_type": "code",
      "execution_count": null,
      "metadata": {
        "id": "Gdmml80czxy5"
      },
      "outputs": [],
      "source": [
        "X_train = X_train / 255.\n",
        "X_valid = X_valid / 255."
      ]
    },
    {
      "cell_type": "code",
      "execution_count": null,
      "metadata": {
        "id": "_l6iX-Ebzxy5"
      },
      "outputs": [],
      "source": [
        "img_width = X_train.shape[1]\n",
        "img_height = X_train.shape[2]\n",
        "img_depth = X_train.shape[3]\n",
        "num_classes = y_train.shape[1]"
      ]
    },
    {
      "cell_type": "code",
      "execution_count": null,
      "metadata": {
        "colab": {
          "base_uri": "https://localhost:8080/"
        },
        "id": "WOa5hIkpzxy6",
        "outputId": "2b68ef64-7706-4991-e3cf-ad9cbf9d048f"
      },
      "outputs": [
        {
          "name": "stdout",
          "output_type": "stream",
          "text": [
            "Model: \"DCNN\"\n",
            "_________________________________________________________________\n",
            " Layer (type)                Output Shape              Param #   \n",
            "=================================================================\n",
            " conv2d_1 (Conv2D)           (None, 48, 48, 64)        1664      \n",
            "                                                                 \n",
            " batchnorm_1 (BatchNormaliza  (None, 48, 48, 64)       256       \n",
            " tion)                                                           \n",
            "                                                                 \n",
            " conv2d_2 (Conv2D)           (None, 48, 48, 64)        102464    \n",
            "                                                                 \n",
            " batchnorm_2 (BatchNormaliza  (None, 48, 48, 64)       256       \n",
            " tion)                                                           \n",
            "                                                                 \n",
            " maxpool2d_1 (MaxPooling2D)  (None, 24, 24, 64)        0         \n",
            "                                                                 \n",
            " dropout_1 (Dropout)         (None, 24, 24, 64)        0         \n",
            "                                                                 \n",
            " conv2d_3 (Conv2D)           (None, 24, 24, 128)       73856     \n",
            "                                                                 \n",
            " batchnorm_3 (BatchNormaliza  (None, 24, 24, 128)      512       \n",
            " tion)                                                           \n",
            "                                                                 \n",
            " conv2d_4 (Conv2D)           (None, 24, 24, 128)       147584    \n",
            "                                                                 \n",
            " batchnorm_4 (BatchNormaliza  (None, 24, 24, 128)      512       \n",
            " tion)                                                           \n",
            "                                                                 \n",
            " maxpool2d_2 (MaxPooling2D)  (None, 12, 12, 128)       0         \n",
            "                                                                 \n",
            " dropout_2 (Dropout)         (None, 12, 12, 128)       0         \n",
            "                                                                 \n",
            " conv2d_5 (Conv2D)           (None, 12, 12, 256)       295168    \n",
            "                                                                 \n",
            " batchnorm_5 (BatchNormaliza  (None, 12, 12, 256)      1024      \n",
            " tion)                                                           \n",
            "                                                                 \n",
            " conv2d_6 (Conv2D)           (None, 12, 12, 256)       590080    \n",
            "                                                                 \n",
            " batchnorm_6 (BatchNormaliza  (None, 12, 12, 256)      1024      \n",
            " tion)                                                           \n",
            "                                                                 \n",
            " maxpool2d_3 (MaxPooling2D)  (None, 6, 6, 256)         0         \n",
            "                                                                 \n",
            " dropout_3 (Dropout)         (None, 6, 6, 256)         0         \n",
            "                                                                 \n",
            " flatten (Flatten)           (None, 9216)              0         \n",
            "                                                                 \n",
            " dense_1 (Dense)             (None, 128)               1179776   \n",
            "                                                                 \n",
            " batchnorm_7 (BatchNormaliza  (None, 128)              512       \n",
            " tion)                                                           \n",
            "                                                                 \n",
            " dropout_4 (Dropout)         (None, 128)               0         \n",
            "                                                                 \n",
            " out_layer (Dense)           (None, 7)                 903       \n",
            "                                                                 \n",
            "=================================================================\n",
            "Total params: 2,395,591\n",
            "Trainable params: 2,393,543\n",
            "Non-trainable params: 2,048\n",
            "_________________________________________________________________\n"
          ]
        }
      ],
      "source": [
        "model = tf.keras.models.Sequential(name='DCNN')\n",
        "\n",
        "model.add(Conv2D(filters=64,kernel_size=(5,5),input_shape=(img_width, img_height, img_depth),activation='elu',padding='same',kernel_initializer='he_normal',name='conv2d_1'))\n",
        "model.add(BatchNormalization(name='batchnorm_1'))\n",
        "model.add(Conv2D(filters=64,kernel_size=(5,5),activation='elu',padding='same',kernel_initializer='he_normal',name='conv2d_2'))\n",
        "model.add(BatchNormalization(name='batchnorm_2'))\n",
        "\n",
        "model.add(MaxPooling2D(pool_size=(2,2), name='maxpool2d_1'))\n",
        "model.add(Dropout(0.4, name='dropout_1'))\n",
        "\n",
        "model.add(Conv2D(filters=128,kernel_size=(3,3),activation='elu',padding='same',kernel_initializer='he_normal',name='conv2d_3'))\n",
        "model.add(BatchNormalization(name='batchnorm_3'))\n",
        "model.add(Conv2D(filters=128,kernel_size=(3,3),activation='elu',padding='same',kernel_initializer='he_normal',name='conv2d_4'))\n",
        "model.add(BatchNormalization(name='batchnorm_4'))\n",
        "\n",
        "model.add(MaxPooling2D(pool_size=(2,2), name='maxpool2d_2'))\n",
        "model.add(Dropout(0.4, name='dropout_2'))\n",
        "\n",
        "model.add(Conv2D(filters=256,kernel_size=(3,3),activation='elu',padding='same',kernel_initializer='he_normal',name='conv2d_5'))\n",
        "model.add(BatchNormalization(name='batchnorm_5'))\n",
        "model.add(Conv2D(filters=256,kernel_size=(3,3),activation='elu',padding='same',kernel_initializer='he_normal',name='conv2d_6'))\n",
        "model.add(BatchNormalization(name='batchnorm_6'))\n",
        "\n",
        "model.add(MaxPooling2D(pool_size=(2,2), name='maxpool2d_3'))\n",
        "model.add(Dropout(0.5, name='dropout_3'))\n",
        "\n",
        "model.add(Flatten(name='flatten'))\n",
        "\n",
        "model.add(Dense(128,activation='elu',kernel_initializer='he_normal',name='dense_1'))\n",
        "model.add(BatchNormalization(name='batchnorm_7'))\n",
        "\n",
        "model.add(Dropout(0.6, name='dropout_4'))\n",
        "\n",
        "model.add(Dense(num_classes,activation='softmax',name='out_layer'))\n",
        "\n",
        "model.compile(\n",
        "loss='categorical_crossentropy',\n",
        "optimizer=tf.keras.optimizers.Nadam(learning_rate=0.001, beta_1=0.9, beta_2=0.999, epsilon=1e-07, name='Nadam'),\n",
        "metrics=['accuracy']\n",
        ")\n",
        "\n",
        "model.summary()"
      ]
    },
    {
      "cell_type": "code",
      "execution_count": null,
      "metadata": {
        "id": "pGBMQJZnzxy6"
      },
      "outputs": [],
      "source": [
        "early_stopping = tf.keras.callbacks.EarlyStopping(monitor='val_accuracy',min_delta=0.00005,patience=11,verbose=1,restore_best_weights=True,)\n",
        "lr_scheduler = tf.keras.callbacks.ReduceLROnPlateau(monitor='val_accuracy',factor=0.5,patience=7,min_lr=1e-7,verbose=1,)"
      ]
    },
    {
      "cell_type": "code",
      "execution_count": null,
      "metadata": {
        "id": "vJeoM9EEzxy7"
      },
      "outputs": [],
      "source": [
        "train_image_generator = tf.keras.preprocessing.image.ImageDataGenerator(zoom_range=0.15, horizontal_flip=True)\n",
        "train_image_generator.fit(X_train)"
      ]
    },
    {
      "cell_type": "code",
      "execution_count": null,
      "metadata": {
        "id": "mZRBrI5yzxy7"
      },
      "outputs": [],
      "source": [
        "generated_images = train_image_generator.flow(X_train, y_train, batch_size=32)"
      ]
    },
    {
      "cell_type": "code",
      "execution_count": null,
      "metadata": {
        "colab": {
          "base_uri": "https://localhost:8080/"
        },
        "id": "3NgGs1i6zxy7",
        "outputId": "e55b9644-08c2-47dd-e9ab-a1276002674e"
      },
      "outputs": [
        {
          "name": "stdout",
          "output_type": "stream",
          "text": [
            "Epoch 1/100\n",
            "807/807 [==============================] - 31s 38ms/step - loss: 0.7080 - accuracy: 0.7457 - val_loss: 0.9536 - val_accuracy: 0.6695 - lr: 5.0000e-04\n",
            "Epoch 2/100\n",
            "807/807 [==============================] - 29s 36ms/step - loss: 0.7066 - accuracy: 0.7386 - val_loss: 0.9650 - val_accuracy: 0.6667 - lr: 5.0000e-04\n",
            "Epoch 3/100\n",
            "807/807 [==============================] - 27s 34ms/step - loss: 0.7042 - accuracy: 0.7439 - val_loss: 0.9555 - val_accuracy: 0.6677 - lr: 5.0000e-04\n",
            "Epoch 4/100\n",
            "807/807 [==============================] - 28s 35ms/step - loss: 0.6953 - accuracy: 0.7460 - val_loss: 0.9629 - val_accuracy: 0.6614 - lr: 5.0000e-04\n",
            "Epoch 5/100\n",
            "807/807 [==============================] - 27s 34ms/step - loss: 0.6932 - accuracy: 0.7474 - val_loss: 0.9639 - val_accuracy: 0.6674 - lr: 5.0000e-04\n",
            "Epoch 6/100\n",
            "807/807 [==============================] - 28s 35ms/step - loss: 0.6890 - accuracy: 0.7480 - val_loss: 0.9749 - val_accuracy: 0.6614 - lr: 5.0000e-04\n",
            "Epoch 7/100\n",
            "807/807 [==============================] - 27s 34ms/step - loss: 0.6869 - accuracy: 0.7508 - val_loss: 0.9686 - val_accuracy: 0.6663 - lr: 5.0000e-04\n",
            "Epoch 8/100\n",
            "807/807 [==============================] - 26s 33ms/step - loss: 0.6822 - accuracy: 0.7517 - val_loss: 0.9851 - val_accuracy: 0.6719 - lr: 5.0000e-04\n",
            "Epoch 9/100\n",
            "807/807 [==============================] - 26s 33ms/step - loss: 0.6781 - accuracy: 0.7513 - val_loss: 0.9537 - val_accuracy: 0.6670 - lr: 5.0000e-04\n",
            "Epoch 10/100\n",
            "807/807 [==============================] - 27s 33ms/step - loss: 0.6728 - accuracy: 0.7541 - val_loss: 0.9714 - val_accuracy: 0.6639 - lr: 5.0000e-04\n",
            "Epoch 11/100\n",
            "807/807 [==============================] - 26s 33ms/step - loss: 0.6729 - accuracy: 0.7561 - val_loss: 0.9740 - val_accuracy: 0.6722 - lr: 5.0000e-04\n",
            "Epoch 12/100\n",
            "807/807 [==============================] - 27s 34ms/step - loss: 0.6732 - accuracy: 0.7540 - val_loss: 0.9916 - val_accuracy: 0.6670 - lr: 5.0000e-04\n",
            "Epoch 13/100\n",
            "807/807 [==============================] - 28s 34ms/step - loss: 0.6660 - accuracy: 0.7595 - val_loss: 0.9998 - val_accuracy: 0.6632 - lr: 5.0000e-04\n",
            "Epoch 14/100\n",
            "807/807 [==============================] - 27s 33ms/step - loss: 0.6568 - accuracy: 0.7589 - val_loss: 0.9874 - val_accuracy: 0.6653 - lr: 5.0000e-04\n",
            "Epoch 15/100\n",
            "807/807 [==============================] - 27s 33ms/step - loss: 0.6642 - accuracy: 0.7580 - val_loss: 0.9836 - val_accuracy: 0.6733 - lr: 5.0000e-04\n",
            "Epoch 16/100\n",
            "807/807 [==============================] - 26s 33ms/step - loss: 0.6529 - accuracy: 0.7636 - val_loss: 0.9733 - val_accuracy: 0.6722 - lr: 5.0000e-04\n",
            "Epoch 17/100\n",
            "807/807 [==============================] - 27s 33ms/step - loss: 0.6481 - accuracy: 0.7656 - val_loss: 1.0056 - val_accuracy: 0.6695 - lr: 5.0000e-04\n",
            "Epoch 18/100\n",
            "807/807 [==============================] - 27s 34ms/step - loss: 0.6538 - accuracy: 0.7638 - val_loss: 0.9936 - val_accuracy: 0.6649 - lr: 5.0000e-04\n",
            "Epoch 19/100\n",
            "807/807 [==============================] - 27s 34ms/step - loss: 0.6501 - accuracy: 0.7660 - val_loss: 0.9733 - val_accuracy: 0.6670 - lr: 5.0000e-04\n",
            "Epoch 20/100\n",
            "807/807 [==============================] - 26s 33ms/step - loss: 0.6429 - accuracy: 0.7678 - val_loss: 0.9861 - val_accuracy: 0.6663 - lr: 5.0000e-04\n",
            "Epoch 21/100\n",
            "807/807 [==============================] - 27s 33ms/step - loss: 0.6403 - accuracy: 0.7683 - val_loss: 0.9870 - val_accuracy: 0.6719 - lr: 5.0000e-04\n",
            "Epoch 22/100\n",
            "807/807 [==============================] - 27s 33ms/step - loss: 0.6303 - accuracy: 0.7693 - val_loss: 1.0186 - val_accuracy: 0.6740 - lr: 5.0000e-04\n",
            "Epoch 23/100\n",
            "807/807 [==============================] - 27s 33ms/step - loss: 0.6216 - accuracy: 0.7748 - val_loss: 1.0140 - val_accuracy: 0.6646 - lr: 5.0000e-04\n",
            "Epoch 24/100\n",
            "807/807 [==============================] - 27s 33ms/step - loss: 0.6314 - accuracy: 0.7716 - val_loss: 0.9903 - val_accuracy: 0.6715 - lr: 5.0000e-04\n",
            "Epoch 25/100\n",
            "807/807 [==============================] - 26s 33ms/step - loss: 0.6220 - accuracy: 0.7760 - val_loss: 0.9883 - val_accuracy: 0.6705 - lr: 5.0000e-04\n",
            "Epoch 26/100\n",
            "807/807 [==============================] - 27s 33ms/step - loss: 0.6203 - accuracy: 0.7763 - val_loss: 1.0071 - val_accuracy: 0.6754 - lr: 5.0000e-04\n",
            "Epoch 27/100\n",
            "807/807 [==============================] - 27s 33ms/step - loss: 0.6237 - accuracy: 0.7717 - val_loss: 0.9940 - val_accuracy: 0.6677 - lr: 5.0000e-04\n",
            "Epoch 28/100\n",
            "807/807 [==============================] - 27s 33ms/step - loss: 0.6217 - accuracy: 0.7750 - val_loss: 1.0036 - val_accuracy: 0.6757 - lr: 5.0000e-04\n",
            "Epoch 29/100\n",
            "807/807 [==============================] - 26s 33ms/step - loss: 0.6192 - accuracy: 0.7749 - val_loss: 0.9980 - val_accuracy: 0.6782 - lr: 5.0000e-04\n",
            "Epoch 30/100\n",
            "807/807 [==============================] - 27s 34ms/step - loss: 0.6216 - accuracy: 0.7768 - val_loss: 1.0454 - val_accuracy: 0.6698 - lr: 5.0000e-04\n",
            "Epoch 31/100\n",
            "807/807 [==============================] - 26s 33ms/step - loss: 0.6073 - accuracy: 0.7816 - val_loss: 0.9901 - val_accuracy: 0.6785 - lr: 5.0000e-04\n",
            "Epoch 32/100\n",
            "807/807 [==============================] - 26s 33ms/step - loss: 0.6092 - accuracy: 0.7786 - val_loss: 0.9892 - val_accuracy: 0.6740 - lr: 5.0000e-04\n",
            "Epoch 33/100\n",
            "807/807 [==============================] - 27s 34ms/step - loss: 0.5962 - accuracy: 0.7829 - val_loss: 1.0191 - val_accuracy: 0.6681 - lr: 5.0000e-04\n",
            "Epoch 34/100\n",
            "807/807 [==============================] - 26s 33ms/step - loss: 0.6048 - accuracy: 0.7814 - val_loss: 0.9895 - val_accuracy: 0.6771 - lr: 5.0000e-04\n",
            "Epoch 35/100\n",
            "807/807 [==============================] - 26s 33ms/step - loss: 0.5938 - accuracy: 0.7846 - val_loss: 0.9961 - val_accuracy: 0.6653 - lr: 5.0000e-04\n",
            "Epoch 36/100\n",
            "807/807 [==============================] - 26s 33ms/step - loss: 0.5988 - accuracy: 0.7835 - val_loss: 1.0331 - val_accuracy: 0.6733 - lr: 5.0000e-04\n",
            "Epoch 37/100\n",
            "807/807 [==============================] - 27s 33ms/step - loss: 0.5924 - accuracy: 0.7861 - val_loss: 1.0161 - val_accuracy: 0.6715 - lr: 5.0000e-04\n",
            "Epoch 38/100\n",
            "807/807 [============================>.] - ETA: 0s - loss: 0.5937 - accuracy: 0.7869\n",
            "Epoch 38: ReduceLROnPlateau reducing learning rate to 0.0002500000118743628.\n",
            "807/807 [==============================] - 27s 33ms/step - loss: 0.5935 - accuracy: 0.7870 - val_loss: 1.0388 - val_accuracy: 0.6712 - lr: 5.0000e-04\n",
            "Epoch 39/100\n",
            "807/807 [==============================] - 27s 34ms/step - loss: 0.5703 - accuracy: 0.7933 - val_loss: 1.0280 - val_accuracy: 0.6726 - lr: 2.5000e-04\n",
            "Epoch 40/100\n",
            "807/807 [==============================] - 28s 34ms/step - loss: 0.5694 - accuracy: 0.7925 - val_loss: 1.0198 - val_accuracy: 0.6736 - lr: 2.5000e-04\n",
            "Epoch 41/100\n",
            "807/807 [==============================] - 27s 33ms/step - loss: 0.5590 - accuracy: 0.7967 - val_loss: 1.0201 - val_accuracy: 0.6782 - lr: 2.5000e-04\n",
            "Epoch 42/100\n",
            "807/807 [============================>.] - ETA: 0s - loss: 0.5652 - accuracy: 0.7961Restoring model weights from the end of the best epoch: 31.\n",
            "807/807 [==============================] - 27s 34ms/step - loss: 0.5652 - accuracy: 0.7960 - val_loss: 1.0250 - val_accuracy: 0.6764 - lr: 2.5000e-04\n",
            "Epoch 42: early stopping\n"
          ]
        }
      ],
      "source": [
        "hist = model.fit(\n",
        "    generated_images,\n",
        "    validation_data=(X_valid, y_valid),\n",
        "    steps_per_epoch=len(X_train) / 32,\n",
        "    epochs=100,\n",
        "    callbacks=[early_stopping,lr_scheduler],\n",
        ")"
      ]
    },
    {
      "cell_type": "code",
      "execution_count": null,
      "metadata": {
        "id": "skTHagU2zxy8"
      },
      "outputs": [],
      "source": [
        "model.save('/content/PredictorWithHundredEpochs.h5')"
      ]
    }
  ],
  "metadata": {
    "accelerator": "GPU",
    "colab": {
      "provenance": []
    },
    "gpuClass": "standard",
    "kernelspec": {
      "display_name": "Python 3",
      "language": "python",
      "name": "python3"
    },
    "language_info": {
      "codemirror_mode": {
        "name": "ipython",
        "version": 3
      },
      "file_extension": ".py",
      "mimetype": "text/x-python",
      "name": "python",
      "nbconvert_exporter": "python",
      "pygments_lexer": "ipython3",
      "version": "3.9.0"
    },
    "orig_nbformat": 4,
    "vscode": {
      "interpreter": {
        "hash": "c9122fc2a4340e44c834448db4e0addaff3090a5d247fd9f628eaa5f69b260a9"
      }
    }
  },
  "nbformat": 4,
  "nbformat_minor": 0
}
